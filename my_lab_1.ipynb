{
  "nbformat": 4,
  "nbformat_minor": 0,
  "metadata": {
    "colab": {
      "provenance": [],
      "history_visible": true,
      "authorship_tag": "ABX9TyNhxE1YCHGvGXx9KuT/3uY/",
      "include_colab_link": true
    },
    "kernelspec": {
      "name": "python3",
      "display_name": "Python 3"
    },
    "language_info": {
      "name": "python"
    }
  },
  "cells": [
    {
      "cell_type": "markdown",
      "metadata": {
        "id": "view-in-github",
        "colab_type": "text"
      },
      "source": [
        "<a href=\"https://colab.research.google.com/github/Josybellph/Python-Lab1/blob/main/my_lab_1.ipynb\" target=\"_parent\"><img src=\"https://colab.research.google.com/assets/colab-badge.svg\" alt=\"Open In Colab\"/></a>"
      ]
    },
    {
      "cell_type": "code",
      "source": [],
      "metadata": {
        "id": "wEHp4msKUW3_"
      },
      "execution_count": null,
      "outputs": []
    },
    {
      "cell_type": "code",
      "source": [
        "print(\"WELCOME TO MY OPERATOR SESSION, PAY FULL ATTENTION\")\n",
        "\n",
        "# Aithmetic operarions\n",
        "\n",
        "a =65\n",
        "b = 28\n",
        "\n",
        "result = a > b\n",
        "\n",
        "print(\"result= \", result)"
      ],
      "metadata": {
        "colab": {
          "base_uri": "https://localhost:8080/"
        },
        "outputId": "c50bc0cd-0cca-4994-853e-8876a0bcf013",
        "id": "m3_oM6OZXb99"
      },
      "execution_count": 18,
      "outputs": [
        {
          "output_type": "stream",
          "name": "stdout",
          "text": [
            "WELCOME TO MY OPERATOR SESSION, PAY FULL ATTENTION\n",
            "result=  True\n"
          ]
        }
      ]
    },
    {
      "cell_type": "code",
      "source": [
        "print(\"WELCOME TO MY OPERATOR SESSION, PAY FULL ATTENTION\")\n",
        "\n",
        "# Aithmetic operarions\n",
        "\n",
        "a =65\n",
        "b = 28\n",
        "\n",
        "result = a < b\n",
        "\n",
        "print(\"result= \", result)"
      ],
      "metadata": {
        "colab": {
          "base_uri": "https://localhost:8080/"
        },
        "outputId": "c0115427-1222-4706-e53c-717547f05803",
        "id": "wQOXP7H5XCk8"
      },
      "execution_count": 17,
      "outputs": [
        {
          "output_type": "stream",
          "name": "stdout",
          "text": [
            "WELCOME TO MY OPERATOR SESSION, PAY FULL ATTENTION\n",
            "result=  False\n"
          ]
        }
      ]
    },
    {
      "cell_type": "code",
      "source": [
        "print(\"WELCOME TO MY OPERATOR SESSION, PAY FULL ATTENTION\")\n",
        "\n",
        "# Aithmetic operarions\n",
        "\n",
        "a == 65\n",
        "\n",
        "result = a\n",
        "\n",
        "print(\"result= \", result)"
      ],
      "metadata": {
        "colab": {
          "base_uri": "https://localhost:8080/"
        },
        "outputId": "bfffaed3-faaa-467e-b9f2-74926c243067",
        "id": "GT0YEJvYWxIq"
      },
      "execution_count": 16,
      "outputs": [
        {
          "output_type": "stream",
          "name": "stdout",
          "text": [
            "WELCOME TO MY OPERATOR SESSION, PAY FULL ATTENTION\n",
            "result=  1.0\n"
          ]
        }
      ]
    },
    {
      "cell_type": "code",
      "source": [
        "print(\"WELCOME TO MY OPERATOR SESSION, PAY FULL ATTENTION\")\n",
        "\n",
        "# Aithmetic operarions\n",
        "\n",
        "a **= 65\n",
        "\n",
        "result = a\n",
        "\n",
        "print(\"result= \", result)"
      ],
      "metadata": {
        "colab": {
          "base_uri": "https://localhost:8080/"
        },
        "outputId": "8af5dbce-1951-473b-8f72-4da4a37254b4",
        "id": "OFfHUdPBWk0t"
      },
      "execution_count": 14,
      "outputs": [
        {
          "output_type": "stream",
          "name": "stdout",
          "text": [
            "WELCOME TO MY OPERATOR SESSION, PAY FULL ATTENTION\n",
            "result=  1.0\n"
          ]
        }
      ]
    },
    {
      "cell_type": "code",
      "source": [
        "print(\"WELCOME TO MY OPERATOR SESSION, PAY FULL ATTENTION\")\n",
        "\n",
        "# Aithmetic operarions\n",
        "\n",
        "a %= 65\n",
        "\n",
        "result = a\n",
        "\n",
        "print(\"result= \", result)"
      ],
      "metadata": {
        "colab": {
          "base_uri": "https://localhost:8080/"
        },
        "outputId": "4b1b0ec1-8eff-4e35-83c5-b3a790b8c315",
        "id": "TUtUeToFWVfJ"
      },
      "execution_count": 13,
      "outputs": [
        {
          "output_type": "stream",
          "name": "stdout",
          "text": [
            "WELCOME TO MY OPERATOR SESSION, PAY FULL ATTENTION\n",
            "result=  1.0\n"
          ]
        }
      ]
    },
    {
      "cell_type": "code",
      "source": [
        "print(\"WELCOME TO MY OPERATOR SESSION, PAY FULL ATTENTION\")\n",
        "\n",
        "# Aithmetic operarions\n",
        "\n",
        "a //= 65\n",
        "\n",
        "result = a\n",
        "\n",
        "print(\"result= \", result)"
      ],
      "metadata": {
        "colab": {
          "base_uri": "https://localhost:8080/"
        },
        "outputId": "1e558b7c-bec8-4526-8dae-5d53f1657ff2",
        "id": "HLQQ88d6WKx9"
      },
      "execution_count": 12,
      "outputs": [
        {
          "output_type": "stream",
          "name": "stdout",
          "text": [
            "WELCOME TO MY OPERATOR SESSION, PAY FULL ATTENTION\n",
            "result=  1.0\n"
          ]
        }
      ]
    },
    {
      "cell_type": "code",
      "source": [
        "print(\"WELCOME TO MY OPERATOR SESSION, PAY FULL ATTENTION\")\n",
        "\n",
        "# Aithmetic operarions\n",
        "\n",
        "a /= 65\n",
        "\n",
        "result = a\n",
        "\n",
        "print(\"result= \", result)"
      ],
      "metadata": {
        "colab": {
          "base_uri": "https://localhost:8080/"
        },
        "outputId": "5d799408-195d-4754-a186-a9294f0574e9",
        "id": "5Dpp0BdJWGz2"
      },
      "execution_count": 11,
      "outputs": [
        {
          "output_type": "stream",
          "name": "stdout",
          "text": [
            "WELCOME TO MY OPERATOR SESSION, PAY FULL ATTENTION\n",
            "result=  65.0\n"
          ]
        }
      ]
    },
    {
      "cell_type": "code",
      "source": [
        "print(\"WELCOME TO MY OPERATOR SESSION, PAY FULL ATTENTION\")\n",
        "\n",
        "# Aithmetic operarions\n",
        "\n",
        "a *= 65\n",
        "\n",
        "result = a\n",
        "\n",
        "print(\"result= \", result)"
      ],
      "metadata": {
        "colab": {
          "base_uri": "https://localhost:8080/"
        },
        "outputId": "f60922da-47e6-44e7-ac6a-5a25e721ccf9",
        "id": "vHWPRtw1V9ZT"
      },
      "execution_count": 10,
      "outputs": [
        {
          "output_type": "stream",
          "name": "stdout",
          "text": [
            "WELCOME TO MY OPERATOR SESSION, PAY FULL ATTENTION\n",
            "result=  4225\n"
          ]
        }
      ]
    },
    {
      "cell_type": "code",
      "source": [
        "print(\"WELCOME TO MY OPERATOR SESSION, PAY FULL ATTENTION\")\n",
        "\n",
        "# Aithmetic operarions\n",
        "\n",
        "a -= 65\n",
        "\n",
        "result = a\n",
        "\n",
        "print(\"result= \", result)"
      ],
      "metadata": {
        "colab": {
          "base_uri": "https://localhost:8080/"
        },
        "outputId": "973ae84c-d018-4e11-ccae-3d1e9959e566",
        "id": "vNnKKddNVy2o"
      },
      "execution_count": 9,
      "outputs": [
        {
          "output_type": "stream",
          "name": "stdout",
          "text": [
            "WELCOME TO MY OPERATOR SESSION, PAY FULL ATTENTION\n",
            "result=  65\n"
          ]
        }
      ]
    },
    {
      "cell_type": "code",
      "source": [
        "print(\"WELCOME TO MY OPERATOR SESSION, PAY FULL ATTENTION\")\n",
        "\n",
        "# Aithmetic operarions\n",
        "\n",
        "a += 65\n",
        "\n",
        "result = a\n",
        "\n",
        "print(\"result= \", result)"
      ],
      "metadata": {
        "colab": {
          "base_uri": "https://localhost:8080/"
        },
        "outputId": "dc74c710-68db-4c68-c230-53da7c4f686e",
        "id": "AX457mkhVWyd"
      },
      "execution_count": 8,
      "outputs": [
        {
          "output_type": "stream",
          "name": "stdout",
          "text": [
            "WELCOME TO MY OPERATOR SESSION, PAY FULL ATTENTION\n",
            "result=  130\n"
          ]
        }
      ]
    },
    {
      "cell_type": "code",
      "source": [
        "print(\"WELCOME TO MY OPERATOR SESSION, PAY FULL ATTENTION\")\n",
        "\n",
        "# Aithmetic operarions\n",
        "\n",
        "a = 65\n",
        "b = 28\n",
        "result = a ** b\n",
        "\n",
        "print(\"result= \", result)"
      ],
      "metadata": {
        "colab": {
          "base_uri": "https://localhost:8080/"
        },
        "outputId": "de64f322-582f-40bb-a415-f82b4577f951",
        "id": "EeUOQ3psVHya"
      },
      "execution_count": 7,
      "outputs": [
        {
          "output_type": "stream",
          "name": "stdout",
          "text": [
            "WELCOME TO MY OPERATOR SESSION, PAY FULL ATTENTION\n",
            "result=  577529251674651958617178168353475630283355712890625\n"
          ]
        }
      ]
    },
    {
      "cell_type": "code",
      "source": [
        "print(\"WELCOME TO MY OPERATOR SESSION, PAY FULL ATTENTION\")\n",
        "\n",
        "# Aithmetic operarions\n",
        "\n",
        "a = 65\n",
        "b = 28\n",
        "result = a % b\n",
        "\n",
        "print(\"result= \", result)"
      ],
      "metadata": {
        "colab": {
          "base_uri": "https://localhost:8080/"
        },
        "outputId": "bef109ec-e8c9-467d-8528-cf47fe25cbf8",
        "id": "15CwMwc7U-Tn"
      },
      "execution_count": 6,
      "outputs": [
        {
          "output_type": "stream",
          "name": "stdout",
          "text": [
            "WELCOME TO MY OPERATOR SESSION, PAY FULL ATTENTION\n",
            "result=  9\n"
          ]
        }
      ]
    },
    {
      "cell_type": "code",
      "source": [
        "print(\"WELCOME TO MY OPERATOR SESSION, PAY FULL ATTENTION\")\n",
        "\n",
        "# Aithmetic operarions\n",
        "\n",
        "a = 65\n",
        "b = 28\n",
        "result = a // b\n",
        "\n",
        "print(\"result= \", result)"
      ],
      "metadata": {
        "colab": {
          "base_uri": "https://localhost:8080/"
        },
        "outputId": "1bd90429-48c5-44d8-dc5d-ef673261a493",
        "id": "5uzYxWVwU2xe"
      },
      "execution_count": 5,
      "outputs": [
        {
          "output_type": "stream",
          "name": "stdout",
          "text": [
            "WELCOME TO MY OPERATOR SESSION, PAY FULL ATTENTION\n",
            "result=  2\n"
          ]
        }
      ]
    },
    {
      "cell_type": "code",
      "source": [
        "print(\"WELCOME TO MY OPERATOR SESSION, PAY FULL ATTENTION\")\n",
        "\n",
        "# Aithmetic operarions\n",
        "\n",
        "a = 65\n",
        "b = 28\n",
        "result = a / b\n",
        "\n",
        "print(\"result= \", result)"
      ],
      "metadata": {
        "colab": {
          "base_uri": "https://localhost:8080/"
        },
        "outputId": "4cdfc181-8631-40a3-bb5b-06771317c2e6",
        "id": "T2lWp1NEUwVJ"
      },
      "execution_count": 4,
      "outputs": [
        {
          "output_type": "stream",
          "name": "stdout",
          "text": [
            "WELCOME TO MY OPERATOR SESSION, PAY FULL ATTENTION\n",
            "result=  2.3214285714285716\n"
          ]
        }
      ]
    },
    {
      "cell_type": "code",
      "source": [
        "print(\"WELCOME TO MY OPERATOR SESSION, PAY FULL ATTENTION\")\n",
        "\n",
        "# Aithmetic operarions\n",
        "\n",
        "a = 65\n",
        "b = 28\n",
        "result = a * b\n",
        "\n",
        "print(\"result= \", result)"
      ],
      "metadata": {
        "colab": {
          "base_uri": "https://localhost:8080/"
        },
        "outputId": "1da85f83-2dc7-4716-a513-1abdb2f1cded",
        "id": "gHRjzAxAUmJq"
      },
      "execution_count": 3,
      "outputs": [
        {
          "output_type": "stream",
          "name": "stdout",
          "text": [
            "WELCOME TO MY OPERATOR SESSION, PAY FULL ATTENTION\n",
            "result=  1820\n"
          ]
        }
      ]
    },
    {
      "cell_type": "code",
      "source": [
        "print(\"WELCOME TO MY OPERATOR SESSION, PAY FULL ATTENTION\")\n",
        "\n",
        "# Aithmetic operarions\n",
        "\n",
        "a = 65\n",
        "b = 28\n",
        "result = a - b\n",
        "\n",
        "print(\"result= \", result)"
      ],
      "metadata": {
        "colab": {
          "base_uri": "https://localhost:8080/"
        },
        "outputId": "5db450a9-8a80-48a3-a7f8-2fd8a2abc685",
        "id": "9IDZKguYUb_u"
      },
      "execution_count": 2,
      "outputs": [
        {
          "output_type": "stream",
          "name": "stdout",
          "text": [
            "WELCOME TO MY OPERATOR SESSION, PAY FULL ATTENTION\n",
            "result=  37\n"
          ]
        }
      ]
    },
    {
      "cell_type": "code",
      "source": [
        "print(\"WELCOME TO MY OPERATOR SESSION, PAY FULL ATTENTION\")\n",
        "\n",
        "# Aithmetic operarions\n",
        "\n",
        "a = 65\n",
        "b = 28\n",
        "result = a + b\n",
        "\n",
        "print(\"result= \", result)"
      ],
      "metadata": {
        "colab": {
          "base_uri": "https://localhost:8080/"
        },
        "id": "QF2RxV1iAdIz",
        "outputId": "5438e4b3-dd8d-4ce8-8479-d58e34fe44fe"
      },
      "execution_count": 1,
      "outputs": [
        {
          "output_type": "stream",
          "name": "stdout",
          "text": [
            "WELCOME TO MY OPERATOR SESSION, PAY FULL ATTENTION\n",
            "result=  93\n"
          ]
        }
      ]
    },
    {
      "cell_type": "code",
      "source": [
        "print (\"Welcome to Bill Calculator! Enter the bill items below \\n\")\n",
        "\n",
        "Starter= float(input(\"Starter =\"))\n",
        "Main_meal= float(input(\"Main_meal= \"))\n",
        "Desert= float(input(\"Desert =\"))\n",
        "\n",
        "Total= float(Starter+Main_meal+Desert)\n",
        "Tax= Total*7.5/107.5\n",
        "\n",
        "print(\"\\n total without tax= \", Total, \"\\n total with tax =\", Total+Tax)"
      ],
      "metadata": {
        "colab": {
          "base_uri": "https://localhost:8080/"
        },
        "id": "GtdWKaNkC4oM",
        "outputId": "07b75bb7-dfb4-49ec-d44f-ec97116e81dd"
      },
      "execution_count": 26,
      "outputs": [
        {
          "output_type": "stream",
          "name": "stdout",
          "text": [
            "Welcome to Bill Calculator! Enter the bill items below \n",
            "\n",
            "Starter =4500\n",
            "Main_meal= 10700\n",
            "Desert =4300\n",
            "\n",
            " total without tax=  19500.0 \n",
            " total with tax = 20860.46511627907\n"
          ]
        }
      ]
    },
    {
      "cell_type": "code",
      "source": [
        "print(\"WELCOME TO MY PROGRAM, ENTER THREE WHOLE NUMBERS\")\n",
        "\n",
        "first= int(input(\"enter the first number \"))\n",
        "\n",
        "second= int(input(\"enter second number \" ))\n",
        "\n",
        "third= int(input(\"enter the third number \"))\n",
        "\n",
        "result= float(first+second+third)/3\n",
        "\n",
        "print(\"Result = \" , result )"
      ],
      "metadata": {
        "colab": {
          "base_uri": "https://localhost:8080/"
        },
        "outputId": "518550d8-4a38-4634-88d9-df4d22b7e5b4",
        "id": "4bC_4v7xC6RB"
      },
      "execution_count": 25,
      "outputs": [
        {
          "output_type": "stream",
          "name": "stdout",
          "text": [
            "WELCOME TO MY PROGRAM, ENTER THREE WHOLE NUMBERS\n",
            "enter the first number 48\n",
            "enter second number 27\n",
            "enter the third number 78\n",
            "Result =  51.0\n"
          ]
        }
      ]
    },
    {
      "cell_type": "code",
      "source": [
        "print(\"WELCOME TO MY PROGRAM, ENTER THREE WHOLE NUMBERS\")\n",
        "\n",
        "first= int(input(\"enter the first number \"))\n",
        "\n",
        "second= int(input(\"enter second number \" ))\n",
        "\n",
        "third= int(input(\"enter the third number \"))\n",
        "\n",
        "result= int(first+second+third)\n",
        "\n",
        "print(\"Result = \" , result )"
      ],
      "metadata": {
        "colab": {
          "base_uri": "https://localhost:8080/"
        },
        "id": "VfGr6Zs81AHG",
        "outputId": "90adccc1-920a-4a65-a74e-3a9bcd8db0b2"
      },
      "execution_count": 24,
      "outputs": [
        {
          "output_type": "stream",
          "name": "stdout",
          "text": [
            "WELCOME TO MY PROGRAM, ENTER THREE WHOLE NUMBERS\n",
            "enter the first number 43\n",
            "enter second number 27\n",
            "enter the third number 78\n",
            "Result =  148\n"
          ]
        }
      ]
    },
    {
      "cell_type": "code",
      "source": [
        "print('WELCOME TO MY PROGRAM')\n",
        "\n",
        "name = input('what is you name?  ')\n",
        "\n",
        "age = int(input('how old are you? '))\n",
        "\n",
        "height = float(input('how tall are you? '))\n",
        "\n",
        "# age= int(age)\n",
        "\n",
        "# height= float(height)\n",
        "print('Hi ' ,name ,'. You are ' , age ,' years old. ' , height , ' is how tall you are. Wonderful! Bye')\n"
      ],
      "metadata": {
        "colab": {
          "base_uri": "https://localhost:8080/"
        },
        "outputId": "996a2310-f19e-496d-db2c-bb4707d040e0",
        "id": "6Xse2cF7_DId"
      },
      "execution_count": 23,
      "outputs": [
        {
          "output_type": "stream",
          "name": "stdout",
          "text": [
            "WELCOME TO MY PROGRAM\n",
            "what is you name?  Joseph Olusegun Bello\n",
            "how old are you? 48\n",
            "how tall are you? 160.7\n",
            "Hi  Joseph Olusegun Bello . You are  48  years old.  160.7  is how tall you are. Wonderful! Bye\n"
          ]
        }
      ]
    },
    {
      "cell_type": "code",
      "source": [
        "print('WELCOME TO MY PROGRAM')\n",
        "\n",
        "name = input('what is you name?  ')\n",
        "\n",
        "age = int(input('how old are you? '))\n",
        "\n",
        "height = float(input('how tall are you? '))\n",
        "\n",
        "# age= int(age)\n",
        "\n",
        "# height= float(height)\n",
        "print('Hi ' + name + '. You are ' + str(age) + ' years old. ' + str(height) + ' is how tall you are. Wonderful! Bye')\n"
      ],
      "metadata": {
        "colab": {
          "base_uri": "https://localhost:8080/"
        },
        "outputId": "6f08d0c2-e6ba-4bb1-99b7-2bfd643ba5d2",
        "id": "llcvDw4h36Mx"
      },
      "execution_count": 22,
      "outputs": [
        {
          "output_type": "stream",
          "name": "stdout",
          "text": [
            "WELCOME TO MY PROGRAM\n",
            "what is you name?  Joseph\n",
            "how old are you? 48\n",
            "how tall are you? 5.7\n",
            "Hi Joseph. You are 48 years old. 5.7 is how tall you are. Wonderful! Bye\n"
          ]
        }
      ]
    },
    {
      "cell_type": "code",
      "source": [
        "print('WELCOME TO MY PROGRAM')\n",
        "\n",
        "name = input('what is you name?  ')\n",
        "\n",
        "age = input('how old are you? ')\n",
        "\n",
        "height = input('how tall are you? ')\n",
        "\n",
        "age= int(age)\n",
        "\n",
        "height= float(height)\n",
        "print('Hi ' + name + '. You are ' + str(age) + ' years old. ' + str(height) + ' is how tall you are. Wonderful! Bye')\n"
      ],
      "metadata": {
        "colab": {
          "base_uri": "https://localhost:8080/"
        },
        "outputId": "377409fc-4f22-4096-e782-606bbffbf63d",
        "id": "UghVXeKw19Tf"
      },
      "execution_count": 20,
      "outputs": [
        {
          "output_type": "stream",
          "name": "stdout",
          "text": [
            "WELCOME TO MY PROGRAM\n",
            "what is you name?  Joseph\n",
            "how old are you? 48\n",
            "how tall are you? 5.7\n",
            "Hi Joseph. You are 48 years old. 5.7 is how tall you are. Wonderful! Bye\n"
          ]
        }
      ]
    },
    {
      "cell_type": "code",
      "source": [
        "make='ford '\n",
        "model='terano XL50'\n",
        "car_registration_number ='4578'\n",
        "car1_info =make+ ' ' +model+ ' ' +car_registration_number\n",
        "print(car1_info)\n"
      ],
      "metadata": {
        "colab": {
          "base_uri": "https://localhost:8080/"
        },
        "id": "JV0fynmzuAn5",
        "outputId": "5dffa9eb-068c-46db-d101-aab0fc18c371"
      },
      "execution_count": 18,
      "outputs": [
        {
          "output_type": "stream",
          "name": "stdout",
          "text": [
            "ford  terano XL50 4578\n"
          ]
        }
      ]
    },
    {
      "cell_type": "code",
      "source": [
        "print('WELCOME TO MY PROGRAM')\n",
        "\n",
        "name = input('what is you name?  ')\n",
        "\n",
        "age = input('how old are you? ')\n",
        "\n",
        "height = input('how tall are you? ')\n",
        "\n",
        "print('Hi ' + name + '. You are ' + age + ' years old. ' + height + ' is how tall you are. Wonderful! Bye')\n"
      ],
      "metadata": {
        "colab": {
          "base_uri": "https://localhost:8080/"
        },
        "id": "2Qb9dSgZWgW_",
        "outputId": "3edf4688-fa2b-4ad9-b4bc-306edd455313"
      },
      "execution_count": 1,
      "outputs": [
        {
          "output_type": "stream",
          "name": "stdout",
          "text": [
            "WELCOME TO MY PROGRAM\n",
            "what is you name?  Joseph Olusegun Bello\n",
            "how old are you? 48\n",
            "how tall are you? 5.7\n",
            "Hi Joseph Olusegun Bello. You are 48 years old. 5.7 is how tall you are. Wonderful! Bye\n"
          ]
        }
      ]
    },
    {
      "cell_type": "code",
      "execution_count": 8,
      "metadata": {
        "colab": {
          "base_uri": "https://localhost:8080/"
        },
        "id": "KCBXJiajTkD7",
        "outputId": "477375b3-ed9a-4ee3-f1ab-75fcb516a761"
      },
      "outputs": [
        {
          "output_type": "stream",
          "name": "stdout",
          "text": [
            "WELCOME TO MY PROGRAM\n",
            "what is your name?  Joseph Olusegun Bello\n",
            "Nice to meet you\n"
          ]
        }
      ],
      "source": [
        "print(\"WELCOME TO MY PROGRAM\")\n",
        "input('what is your name?  ')\n",
        "print('Nice to meet you')"
      ]
    }
  ]
}