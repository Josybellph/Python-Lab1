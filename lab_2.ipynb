{
  "nbformat": 4,
  "nbformat_minor": 0,
  "metadata": {
    "colab": {
      "provenance": [],
      "authorship_tag": "ABX9TyNZjR6dy9FSVXcN5/z03ihU",
      "include_colab_link": true
    },
    "kernelspec": {
      "name": "python3",
      "display_name": "Python 3"
    },
    "language_info": {
      "name": "python"
    }
  },
  "cells": [
    {
      "cell_type": "markdown",
      "metadata": {
        "id": "view-in-github",
        "colab_type": "text"
      },
      "source": [
        "<a href=\"https://colab.research.google.com/github/Josybellph/Python-Lab1/blob/main/lab_2.ipynb\" target=\"_parent\"><img src=\"https://colab.research.google.com/assets/colab-badge.svg\" alt=\"Open In Colab\"/></a>"
      ]
    },
    {
      "cell_type": "code",
      "source": [],
      "metadata": {
        "id": "o7wL4idf3Oyx"
      },
      "execution_count": null,
      "outputs": []
    },
    {
      "cell_type": "code",
      "source": [
        "print('Welcome to my program! Enter the password')\n",
        "\n",
        "password = input('Enter password here ')\n",
        "attempts = 1\n",
        "\n",
        "while (password != 'lemme') and (attempts <=3):\n",
        "  password = input('Incorrect password. Try again')\n",
        "  attempts = attempts+1\n",
        "\n",
        "if password == 'lemme':\n",
        "  print('Access Granted. End of Program')\n",
        "\n",
        "else :\n",
        "  print('Too Many Attempts! Bye')\n",
        "\n"
      ],
      "metadata": {
        "colab": {
          "base_uri": "https://localhost:8080/"
        },
        "outputId": "394e0c18-d8cf-45c0-af72-37282a1fbc86",
        "id": "gBp7rEwTYnTw"
      },
      "execution_count": null,
      "outputs": [
        {
          "output_type": "stream",
          "name": "stdout",
          "text": [
            "Welcome to my program! Enter the password\n",
            "Enter password here ksnsgdb\n",
            "Incorrect password. Try againlemmio\n",
            "Incorrect password. Try againlemme\n",
            "Access Granted. End of Program\n"
          ]
        }
      ]
    },
    {
      "cell_type": "code",
      "source": [
        "print('Welcome to my program! Enter the password')\n",
        "\n",
        "password = input('Enter password here ')\n",
        "attempts = 1\n",
        "\n",
        "while (password != 'lemme') and (attempts <=3):\n",
        "  password = input('Incorrect password. Try again')\n",
        "  attempts = attempts+1\n",
        "\n",
        "if password == 'lemme':\n",
        "  print('Access Granted. End of Program')\n",
        "\n",
        "else :\n",
        "  print('Too Many Attempts! Bye')\n",
        "\n"
      ],
      "metadata": {
        "colab": {
          "base_uri": "https://localhost:8080/"
        },
        "outputId": "76a06d2e-3b17-453d-fba3-17c7a40e2c11",
        "id": "p3CvJPn2WSNp"
      },
      "execution_count": null,
      "outputs": [
        {
          "output_type": "stream",
          "name": "stdout",
          "text": [
            "Welcome to my program! Enter the password\n",
            "Enter password here lemit\n",
            "Incorrect password. Try againlemmy\n",
            "Incorrect password. Try againleeme\n",
            "Incorrect password. Try againlemit\n",
            "Too Many Attempts! Bye\n"
          ]
        }
      ]
    },
    {
      "cell_type": "code",
      "source": [
        "print('Welcome to my program! Enter the password')\n",
        "\n",
        "password = input('Enter password here ')\n",
        "\n",
        "while password != 'lemme':\n",
        "  password = input('Incorrect password. Try again')\n",
        "\n",
        "  print('Access Granted. End of Program')\n",
        "\n"
      ],
      "metadata": {
        "colab": {
          "base_uri": "https://localhost:8080/"
        },
        "outputId": "d53a77ef-afda-40ea-e416-d3d3270f4cc9",
        "id": "djBJFomtPlxH"
      },
      "execution_count": null,
      "outputs": [
        {
          "output_type": "stream",
          "name": "stdout",
          "text": [
            "Welcome to my program! Enter the password\n",
            "Enter password here lemit\n",
            "Incorrect password. Try againleeme\n",
            "Access Granted. End of Program\n",
            "Incorrect password. Try againlemme\n",
            "Access Granted. End of Program\n"
          ]
        }
      ]
    },
    {
      "cell_type": "code",
      "source": [
        "print('Welcome to my program')\n",
        "\n",
        "Number = int(input('enter number '))\n",
        "\n",
        "if Number > 0:\n",
        "  print('Your number is higher than Zero')\n",
        "\n",
        "elif Number >100:\n",
        "  print('You are aiming higher ')\n",
        "\n",
        "elif (Number %2)==0:\n",
        "  print('You entered an even number ')\n",
        "\n",
        "else:\n",
        "  print('You entered a negative number')"
      ],
      "metadata": {
        "colab": {
          "base_uri": "https://localhost:8080/"
        },
        "outputId": "79f00a1e-0c08-4359-a091-73ea2b118571",
        "id": "d0X9ebCh3P2l"
      },
      "execution_count": null,
      "outputs": [
        {
          "output_type": "stream",
          "name": "stdout",
          "text": [
            "Welcome to my program\n",
            "enter number 222\n",
            "Your number is higher than Zero\n"
          ]
        }
      ]
    },
    {
      "cell_type": "code",
      "source": [
        "print('Welcome to my program')\n",
        "\n",
        "Number = int(input('enter number '))\n",
        "\n",
        "if Number > 0:\n",
        "  print('Your number is higher than Zero')\n",
        "\n",
        "if Number >100:\n",
        "  print('You are aiming higher ')\n",
        "\n",
        "if (Number %2)==0:\n",
        "  print('You entered an even number ')"
      ],
      "metadata": {
        "colab": {
          "base_uri": "https://localhost:8080/"
        },
        "id": "7m1gsoX9pCWQ",
        "outputId": "5466a269-18db-4895-bcb3-64c75bc649ad"
      },
      "execution_count": null,
      "outputs": [
        {
          "output_type": "stream",
          "name": "stdout",
          "text": [
            "Welcome to my program\n",
            "enter number 222\n",
            "Your number is higher than Zero\n",
            "You are aiming higher \n",
            "You entered an even number \n"
          ]
        }
      ]
    },
    {
      "cell_type": "code",
      "source": [
        "print('WELOCME TO MY PROGRAM')\n",
        "\n",
        "#Prompt the User to enter number\n",
        "\n",
        "Number = float(input('Enter a number '))\n",
        "if Number > 0 :\n",
        "  print('Number is Posistive')\n",
        "\n",
        "elif Number < 0 :\n",
        "  print('Number is Negative')\n",
        "\n",
        "else:\n",
        "  print('You enetered zero')"
      ],
      "metadata": {
        "colab": {
          "base_uri": "https://localhost:8080/"
        },
        "outputId": "9c926427-b4c0-45bf-c443-2fcdff572186",
        "id": "hWpz1tLbpYFR"
      },
      "execution_count": null,
      "outputs": [
        {
          "output_type": "stream",
          "name": "stdout",
          "text": [
            "WELOCME TO MY PROGRAM\n",
            "Enter a number 0\n",
            "You enetered zero\n"
          ]
        }
      ]
    },
    {
      "cell_type": "code",
      "source": [
        "print('Welcome to my program! Enter the password')\n",
        "\n",
        "password = input('Enter password here ')\n",
        "\n",
        "if password == 'lemme':\n",
        "  print('Access Grant')\n",
        "else:\n",
        "  print('Access Denied')\n",
        "\n",
        "print('End of Program')"
      ],
      "metadata": {
        "id": "hoCSS03RT-aK",
        "colab": {
          "base_uri": "https://localhost:8080/"
        },
        "outputId": "c4b235d1-0656-47bb-f1ba-53e3ea5d8e10"
      },
      "execution_count": null,
      "outputs": [
        {
          "output_type": "stream",
          "name": "stdout",
          "text": [
            "Welcome to my program! Enter the password\n",
            "Enter password here lemmy\n",
            "Access Denied\n",
            "End of Program\n"
          ]
        }
      ]
    },
    {
      "cell_type": "code",
      "source": [
        "print('WELOCME TO MY PROGRAM')\n",
        "\n",
        "#Prompt the User to enter number\n",
        "\n",
        "Number = float(input('Enter a number'))\n",
        "if Number > 0 :\n",
        "  print('Number is Posistive')\n",
        "\n",
        "if Number < 0 :\n",
        "  print('Number is Negative')\n",
        "\n",
        "if Number == 0:\n",
        "  print('You enetered zero')"
      ],
      "metadata": {
        "colab": {
          "base_uri": "https://localhost:8080/"
        },
        "id": "mmCj4Mjx3t0O",
        "outputId": "92e9e64d-801c-42cc-c0ce-809debf040a4"
      },
      "execution_count": null,
      "outputs": [
        {
          "output_type": "stream",
          "name": "stdout",
          "text": [
            "WELOCME TO MY PROGRAM\n",
            "Enter a number0\n",
            "You enetered zero\n"
          ]
        }
      ]
    },
    {
      "cell_type": "code",
      "execution_count": null,
      "metadata": {
        "colab": {
          "base_uri": "https://localhost:8080/"
        },
        "outputId": "2bc5a08b-3dad-4264-ab27-c15737c823e0",
        "id": "0K1adUgM6Adq"
      },
      "outputs": [
        {
          "output_type": "stream",
          "name": "stdout",
          "text": [
            "Welcome to my program! Enter the password\n",
            "Enter password here lemmy\n",
            "Access Denied\n",
            "End of program! Bye\n"
          ]
        }
      ],
      "source": [
        "print('Welcome to my program! Enter the password')\n",
        "\n",
        "password = input('Enter password here ')\n",
        "\n",
        "if password == 'lemme':\n",
        "  print('Access Grant')\n",
        "\n",
        "if password != 'lemme':\n",
        "    print('Access Denied')\n",
        "\n",
        "\n",
        "\n",
        "print('End of program! Bye')"
      ]
    },
    {
      "cell_type": "code",
      "execution_count": null,
      "metadata": {
        "id": "14Bu1ClPjBp_",
        "colab": {
          "base_uri": "https://localhost:8080/"
        },
        "outputId": "fcabdfff-06de-4500-efe6-ceea2f0aeacb"
      },
      "outputs": [
        {
          "output_type": "stream",
          "name": "stdout",
          "text": [
            "Welcome to my program! Enter the password\n",
            "Enter password here lemme\n",
            "Access Grant\n",
            "End of program! Bye\n"
          ]
        }
      ],
      "source": [
        "print('Welcome to my program! Enter the password')\n",
        "\n",
        "password = input('Enter password here ')\n",
        "\n",
        "if password == 'lemme':\n",
        "\n",
        "  print('Access Grant')\n",
        "\n",
        "print('End of program! Bye')"
      ]
    }
  ]
}